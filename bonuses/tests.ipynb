{
 "cells": [
  {
   "cell_type": "code",
   "execution_count": 3,
   "metadata": {},
   "outputs": [],
   "source": [
    "import numpy as np"
   ]
  },
  {
   "cell_type": "code",
   "execution_count": 4,
   "metadata": {},
   "outputs": [],
   "source": [
    "import subprocess"
   ]
  },
  {
   "cell_type": "code",
   "execution_count": 11,
   "metadata": {},
   "outputs": [],
   "source": [
    "import os"
   ]
  },
  {
   "cell_type": "code",
   "execution_count": 5,
   "metadata": {},
   "outputs": [
    {
     "data": {
      "text/plain": [
       "\u001b[0;31mDocstring:\u001b[0m\n",
       "randint(low, high=None, size=None, dtype='l')\n",
       "\n",
       "Return random integers from `low` (inclusive) to `high` (exclusive).\n",
       "\n",
       "Return random integers from the \"discrete uniform\" distribution of\n",
       "the specified dtype in the \"half-open\" interval [`low`, `high`). If\n",
       "`high` is None (the default), then results are from [0, `low`).\n",
       "\n",
       "Parameters\n",
       "----------\n",
       "low : int or array-like of ints\n",
       "    Lowest (signed) integers to be drawn from the distribution (unless\n",
       "    ``high=None``, in which case this parameter is one above the\n",
       "    *highest* such integer).\n",
       "high : int or array-like of ints, optional\n",
       "    If provided, one above the largest (signed) integer to be drawn\n",
       "    from the distribution (see above for behavior if ``high=None``).\n",
       "    If array-like, must contain integer values\n",
       "size : int or tuple of ints, optional\n",
       "    Output shape.  If the given shape is, e.g., ``(m, n, k)``, then\n",
       "    ``m * n * k`` samples are drawn.  Default is None, in which case a\n",
       "    single value is returned.\n",
       "dtype : dtype, optional\n",
       "    Desired dtype of the result. All dtypes are determined by their\n",
       "    name, i.e., 'int64', 'int', etc, so byteorder is not available\n",
       "    and a specific precision may have different C types depending\n",
       "    on the platform. The default value is 'np.int'.\n",
       "\n",
       "    .. versionadded:: 1.11.0\n",
       "\n",
       "Returns\n",
       "-------\n",
       "out : int or ndarray of ints\n",
       "    `size`-shaped array of random integers from the appropriate\n",
       "    distribution, or a single such random int if `size` not provided.\n",
       "\n",
       "See Also\n",
       "--------\n",
       "random.random_integers : similar to `randint`, only for the closed\n",
       "    interval [`low`, `high`], and 1 is the lowest value if `high` is\n",
       "    omitted.\n",
       "\n",
       "Examples\n",
       "--------\n",
       ">>> np.random.randint(2, size=10)\n",
       "array([1, 0, 0, 0, 1, 1, 0, 0, 1, 0]) # random\n",
       ">>> np.random.randint(1, size=10)\n",
       "array([0, 0, 0, 0, 0, 0, 0, 0, 0, 0])\n",
       "\n",
       "Generate a 2 x 4 array of ints between 0 and 4, inclusive:\n",
       "\n",
       ">>> np.random.randint(5, size=(2, 4))\n",
       "array([[4, 0, 2, 1], # random\n",
       "       [3, 2, 2, 0]])\n",
       "\n",
       "Generate a 1 x 3 array with 3 different upper bounds\n",
       "\n",
       ">>> np.random.randint(1, [3, 5, 10])\n",
       "array([2, 2, 9]) # random\n",
       "\n",
       "Generate a 1 by 3 array with 3 different lower bounds\n",
       "\n",
       ">>> np.random.randint([1, 5, 7], 10)\n",
       "array([9, 8, 7]) # random\n",
       "\n",
       "Generate a 2 by 4 array using broadcasting with dtype of uint8\n",
       "\n",
       ">>> np.random.randint([1, 3, 5, 7], [[10], [20]], dtype=np.uint8)\n",
       "array([[ 8,  6,  9,  7], # random\n",
       "       [ 1, 16,  9, 12]], dtype=uint8)\n",
       "\u001b[0;31mType:\u001b[0m      builtin_function_or_method\n"
      ]
     },
     "metadata": {},
     "output_type": "display_data"
    }
   ],
   "source": [
    "np.random.randint??"
   ]
  },
  {
   "cell_type": "code",
   "execution_count": 6,
   "metadata": {},
   "outputs": [],
   "source": [
    "INT_MAX = 2**31-1"
   ]
  },
  {
   "cell_type": "code",
   "execution_count": 7,
   "metadata": {},
   "outputs": [],
   "source": [
    "INT_MIN = -2**31"
   ]
  },
  {
   "cell_type": "code",
   "execution_count": 8,
   "metadata": {},
   "outputs": [
    {
     "name": "stdout",
     "output_type": "stream",
     "text": [
      "Definitions as in limits.h C library: INT_MAX = 2147483647, INT_MIN = -2147483648\n"
     ]
    }
   ],
   "source": [
    "print(\"Definitions as in limits.h C library: INT_MAX = %i, INT_MIN = %i\"%(INT_MAX,INT_MIN))"
   ]
  },
  {
   "cell_type": "code",
   "execution_count": 9,
   "metadata": {},
   "outputs": [
    {
     "name": "stdout",
     "output_type": "stream",
     "text": [
      "rm -rf ft_atoi.o ft_bzero.o ft_isalnum.o ft_isalpha.o ft_isascii.o ft_isdigit.o ft_isprint.o ft_isspace.o ft_itoa.o ft_lstadd.o ft_lstdel.o ft_lstdelone.o ft_lstiter.o ft_lstlen.o ft_lstmap.o ft_lstnew.o ft_memalloc.o ft_memccpy.o ft_memchr.o ft_memcmp.o ft_memcpy.o ft_memdel.o ft_memmove.o ft_memset.o ft_putchar.o ft_putchar_fd.o ft_putendl.o ft_putendl_fd.o ft_putnbr.o ft_putnbr_fd.o ft_putstr.o ft_putstr_fd.o ft_strcat.o ft_strchr.o ft_strclr.o ft_strcmp.o ft_strdel.o ft_strdup.o ft_strequ.o ft_striter.o ft_striteri.o ft_strjoin.o ft_strlcat.o ft_strlen.o ft_strmap.o ft_strmapi.o ft_strncat.o ft_strncmp.o ft_strnequ.o ft_strnew.o ft_strnjoin.o ft_strnstr.o ft_strrchr.o ft_strsplit.o ft_strstr.o ft_strsub.o ft_strtrim.o ft_tolower.o ft_toupper.o ft_strcpy.o ft_strncpy.o ft_abs.o ft_count_words.o ft_recursive_power.o ft_is_lst_srtd.o ft_lstlen.o\n",
      "rm -rf libft.a\n",
      "gcc -Wall -Wextra -Werror -I. -c ft_atoi.c\n",
      "gcc -Wall -Wextra -Werror -I. -c ft_bzero.c\n",
      "gcc -Wall -Wextra -Werror -I. -c ft_isalnum.c\n",
      "gcc -Wall -Wextra -Werror -I. -c ft_isalpha.c\n",
      "gcc -Wall -Wextra -Werror -I. -c ft_isascii.c\n",
      "gcc -Wall -Wextra -Werror -I. -c ft_isdigit.c\n",
      "gcc -Wall -Wextra -Werror -I. -c ft_isprint.c\n",
      "gcc -Wall -Wextra -Werror -I. -c ft_isspace.c\n",
      "gcc -Wall -Wextra -Werror -I. -c ft_itoa.c\n",
      "gcc -Wall -Wextra -Werror -I. -c ft_lstadd.c\n",
      "gcc -Wall -Wextra -Werror -I. -c ft_lstdel.c\n",
      "gcc -Wall -Wextra -Werror -I. -c ft_lstdelone.c\n",
      "gcc -Wall -Wextra -Werror -I. -c ft_lstiter.c\n",
      "gcc -Wall -Wextra -Werror -I. -c ft_lstlen.c\n",
      "gcc -Wall -Wextra -Werror -I. -c ft_lstmap.c\n",
      "gcc -Wall -Wextra -Werror -I. -c ft_lstnew.c\n",
      "gcc -Wall -Wextra -Werror -I. -c ft_memalloc.c\n",
      "gcc -Wall -Wextra -Werror -I. -c ft_memccpy.c\n",
      "gcc -Wall -Wextra -Werror -I. -c ft_memchr.c\n",
      "gcc -Wall -Wextra -Werror -I. -c ft_memcmp.c\n",
      "gcc -Wall -Wextra -Werror -I. -c ft_memcpy.c\n",
      "gcc -Wall -Wextra -Werror -I. -c ft_memdel.c\n",
      "gcc -Wall -Wextra -Werror -I. -c ft_memmove.c\n",
      "gcc -Wall -Wextra -Werror -I. -c ft_memset.c\n",
      "gcc -Wall -Wextra -Werror -I. -c ft_putchar.c\n",
      "gcc -Wall -Wextra -Werror -I. -c ft_putchar_fd.c\n",
      "gcc -Wall -Wextra -Werror -I. -c ft_putendl.c\n",
      "gcc -Wall -Wextra -Werror -I. -c ft_putendl_fd.c\n",
      "gcc -Wall -Wextra -Werror -I. -c ft_putnbr.c\n",
      "gcc -Wall -Wextra -Werror -I. -c ft_putnbr_fd.c\n",
      "gcc -Wall -Wextra -Werror -I. -c ft_putstr.c\n",
      "gcc -Wall -Wextra -Werror -I. -c ft_putstr_fd.c\n",
      "gcc -Wall -Wextra -Werror -I. -c ft_strcat.c\n",
      "gcc -Wall -Wextra -Werror -I. -c ft_strchr.c\n",
      "gcc -Wall -Wextra -Werror -I. -c ft_strclr.c\n",
      "gcc -Wall -Wextra -Werror -I. -c ft_strcmp.c\n",
      "gcc -Wall -Wextra -Werror -I. -c ft_strdel.c\n",
      "gcc -Wall -Wextra -Werror -I. -c ft_strdup.c\n",
      "gcc -Wall -Wextra -Werror -I. -c ft_strequ.c\n",
      "gcc -Wall -Wextra -Werror -I. -c ft_striter.c\n",
      "gcc -Wall -Wextra -Werror -I. -c ft_striteri.c\n",
      "gcc -Wall -Wextra -Werror -I. -c ft_strjoin.c\n",
      "gcc -Wall -Wextra -Werror -I. -c ft_strlcat.c\n",
      "gcc -Wall -Wextra -Werror -I. -c ft_strlen.c\n",
      "gcc -Wall -Wextra -Werror -I. -c ft_strmap.c\n",
      "gcc -Wall -Wextra -Werror -I. -c ft_strmapi.c\n",
      "gcc -Wall -Wextra -Werror -I. -c ft_strncat.c\n",
      "gcc -Wall -Wextra -Werror -I. -c ft_strncmp.c\n",
      "gcc -Wall -Wextra -Werror -I. -c ft_strnequ.c\n",
      "gcc -Wall -Wextra -Werror -I. -c ft_strnew.c\n",
      "gcc -Wall -Wextra -Werror -I. -c ft_strnjoin.c\n",
      "gcc -Wall -Wextra -Werror -I. -c ft_strnstr.c\n",
      "gcc -Wall -Wextra -Werror -I. -c ft_strrchr.c\n",
      "gcc -Wall -Wextra -Werror -I. -c ft_strsplit.c\n",
      "gcc -Wall -Wextra -Werror -I. -c ft_strstr.c\n",
      "gcc -Wall -Wextra -Werror -I. -c ft_strsub.c\n",
      "gcc -Wall -Wextra -Werror -I. -c ft_strtrim.c\n",
      "gcc -Wall -Wextra -Werror -I. -c ft_tolower.c\n",
      "gcc -Wall -Wextra -Werror -I. -c ft_toupper.c\n",
      "gcc -Wall -Wextra -Werror -I. -c ft_strcpy.c\n",
      "gcc -Wall -Wextra -Werror -I. -c ft_strncpy.c\n",
      "gcc -Wall -Wextra -Werror -I. -c ft_abs.c\n",
      "gcc -Wall -Wextra -Werror -I. -c ft_count_words.c\n",
      "gcc -Wall -Wextra -Werror -I. -c ft_recursive_power.c\n",
      "gcc -Wall -Wextra -Werror -I. -c ft_is_lst_srtd.c\n",
      "ar rcs libft.a ft_atoi.o ft_bzero.o ft_isalnum.o ft_isalpha.o ft_isascii.o ft_isdigit.o ft_isprint.o ft_isspace.o ft_itoa.o ft_lstadd.o ft_lstdel.o ft_lstdelone.o ft_lstiter.o ft_lstlen.o ft_lstmap.o ft_lstnew.o ft_memalloc.o ft_memccpy.o ft_memchr.o ft_memcmp.o ft_memcpy.o ft_memdel.o ft_memmove.o ft_memset.o ft_putchar.o ft_putchar_fd.o ft_putendl.o ft_putendl_fd.o ft_putnbr.o ft_putnbr_fd.o ft_putstr.o ft_putstr_fd.o ft_strcat.o ft_strchr.o ft_strclr.o ft_strcmp.o ft_strdel.o ft_strdup.o ft_strequ.o ft_striter.o ft_striteri.o ft_strjoin.o ft_strlcat.o ft_strlen.o ft_strmap.o ft_strmapi.o ft_strncat.o ft_strncmp.o ft_strnequ.o ft_strnew.o ft_strnjoin.o ft_strnstr.o ft_strrchr.o ft_strsplit.o ft_strstr.o ft_strsub.o ft_strtrim.o ft_tolower.o ft_toupper.o ft_strcpy.o ft_strncpy.o ft_abs.o ft_count_words.o ft_recursive_power.o ft_is_lst_srtd.o ft_lstlen.o\n",
      "rm -rf ft_atoi.o ft_bzero.o ft_isalnum.o ft_isalpha.o ft_isascii.o ft_isdigit.o ft_isprint.o ft_isspace.o ft_itoa.o ft_lstadd.o ft_lstdel.o ft_lstdelone.o ft_lstiter.o ft_lstlen.o ft_lstmap.o ft_lstnew.o ft_memalloc.o ft_memccpy.o ft_memchr.o ft_memcmp.o ft_memcpy.o ft_memdel.o ft_memmove.o ft_memset.o ft_putchar.o ft_putchar_fd.o ft_putendl.o ft_putendl_fd.o ft_putnbr.o ft_putnbr_fd.o ft_putstr.o ft_putstr_fd.o ft_strcat.o ft_strchr.o ft_strclr.o ft_strcmp.o ft_strdel.o ft_strdup.o ft_strequ.o ft_striter.o ft_striteri.o ft_strjoin.o ft_strlcat.o ft_strlen.o ft_strmap.o ft_strmapi.o ft_strncat.o ft_strncmp.o ft_strnequ.o ft_strnew.o ft_strnjoin.o ft_strnstr.o ft_strrchr.o ft_strsplit.o ft_strstr.o ft_strsub.o ft_strtrim.o ft_tolower.o ft_toupper.o ft_strcpy.o ft_strncpy.o ft_abs.o ft_count_words.o ft_recursive_power.o ft_is_lst_srtd.o ft_lstlen.o\n"
     ]
    }
   ],
   "source": [
    "!(cd ../libft && make re && make clean)"
   ]
  },
  {
   "cell_type": "code",
   "execution_count": 62,
   "metadata": {},
   "outputs": [],
   "source": [
    "import sys"
   ]
  },
  {
   "cell_type": "code",
   "execution_count": 135,
   "metadata": {},
   "outputs": [],
   "source": [
    "var = \"pb\\nra\\nrr\\nrrr\\n\""
   ]
  },
  {
   "cell_type": "code",
   "execution_count": 136,
   "metadata": {},
   "outputs": [],
   "source": [
    "var = bytes(var, encoding = \"ascii\")"
   ]
  },
  {
   "cell_type": "code",
   "execution_count": 137,
   "metadata": {},
   "outputs": [
    {
     "data": {
      "text/plain": [
       "bytes"
      ]
     },
     "execution_count": 137,
     "metadata": {},
     "output_type": "execute_result"
    }
   ],
   "source": [
    "type(var)"
   ]
  },
  {
   "cell_type": "code",
   "execution_count": 138,
   "metadata": {},
   "outputs": [
    {
     "data": {
      "text/plain": [
       "b'pb\\nra\\nrr\\nrrr\\n'"
      ]
     },
     "execution_count": 138,
     "metadata": {},
     "output_type": "execute_result"
    }
   ],
   "source": [
    "var"
   ]
  },
  {
   "cell_type": "code",
   "execution_count": 139,
   "metadata": {},
   "outputs": [
    {
     "name": "stdout",
     "output_type": "stream",
     "text": [
      "Status: 0\n",
      "STDOUT\n",
      "KO\n",
      "content of chain element: 3\n",
      "content of chain element: 2\n",
      "-------end of stack a-------\n",
      "\n",
      "\n",
      "------start of stack b------\n",
      "content of chain element: 1\n",
      "\n",
      "STDERR\n",
      "\n"
     ]
    }
   ],
   "source": [
    "args = \"/a.out 1 2 3\"\n",
    "args = os.path.abspath(\"../\") + args\n",
    "args = args.split()\n",
    "p = subprocess.run(args,\n",
    "                   input = var,\n",
    "#                    stdin=subprocess.PIPE,\n",
    "                   stdout=subprocess.PIPE,\n",
    "                   stderr=subprocess.PIPE)\n",
    "print(\"Status: %s\\nSTDOUT\\n%s\\nSTDERR\\n%s\"%(p.returncode,bytes.decode(p.stdout),bytes.decode(p.stderr)))"
   ]
  },
  {
   "cell_type": "code",
   "execution_count": 48,
   "metadata": {},
   "outputs": [
    {
     "data": {
      "text/plain": [
       "True"
      ]
     },
     "execution_count": 48,
     "metadata": {},
     "output_type": "execute_result"
    }
   ],
   "source": [
    "bytes.decode(p.stdout) == \"\""
   ]
  }
 ],
 "metadata": {
  "kernelspec": {
   "display_name": "Python 3",
   "language": "python",
   "name": "python3"
  },
  "language_info": {
   "codemirror_mode": {
    "name": "ipython",
    "version": 3
   },
   "file_extension": ".py",
   "mimetype": "text/x-python",
   "name": "python",
   "nbconvert_exporter": "python",
   "pygments_lexer": "ipython3",
   "version": "3.7.4"
  }
 },
 "nbformat": 4,
 "nbformat_minor": 4
}
