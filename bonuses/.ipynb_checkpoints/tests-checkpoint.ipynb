{
 "cells": [
  {
   "cell_type": "markdown",
   "metadata": {},
   "source": [
    "# 0. Libraries import"
   ]
  },
  {
   "cell_type": "code",
   "execution_count": 1,
   "metadata": {},
   "outputs": [],
   "source": [
    "import subprocess\n",
    "\n",
    "import os\n",
    "\n",
    "from numpy import arange\n",
    "\n",
    "from numpy.random import MT19937, RandomState, SeedSequence, shuffle, randint"
   ]
  },
  {
   "cell_type": "code",
   "execution_count": 2,
   "metadata": {},
   "outputs": [],
   "source": [
    "from itertools import permutations, combinations"
   ]
  },
  {
   "cell_type": "code",
   "execution_count": 3,
   "metadata": {},
   "outputs": [],
   "source": [
    "import sys"
   ]
  },
  {
   "cell_type": "code",
   "execution_count": 4,
   "metadata": {},
   "outputs": [],
   "source": [
    "from numpy import array"
   ]
  },
  {
   "cell_type": "code",
   "execution_count": 5,
   "metadata": {},
   "outputs": [],
   "source": [
    "from numpy.random import choice"
   ]
  },
  {
   "cell_type": "code",
   "execution_count": 6,
   "metadata": {},
   "outputs": [],
   "source": [
    "import io"
   ]
  },
  {
   "cell_type": "markdown",
   "metadata": {},
   "source": [
    "# 1. Local variables and functions definition"
   ]
  },
  {
   "cell_type": "code",
   "execution_count": 7,
   "metadata": {},
   "outputs": [],
   "source": [
    "INT_MAX = 2**31-1"
   ]
  },
  {
   "cell_type": "code",
   "execution_count": 8,
   "metadata": {},
   "outputs": [],
   "source": [
    "INT_MIN = -2**31"
   ]
  },
  {
   "cell_type": "code",
   "execution_count": 9,
   "metadata": {},
   "outputs": [],
   "source": [
    "def make_test_checker(array, stdin_input, errors_test = False, silent = True, success = False):\n",
    "    l = len(array)\n",
    "    argv = \" \".join(map(str,array))\n",
    "    args = \"/checker \" + argv\n",
    "    args = os.path.abspath(\"../\") + args\n",
    "    args = args.split()\n",
    "    p = subprocess.run(args,\n",
    "                       input = stdin_input,\n",
    "                       stdout=subprocess.PIPE,\n",
    "                       stderr=subprocess.PIPE)\n",
    "    if errors_test:\n",
    "        if bytes.decode(p.stderr) != \"Error\\n\":\n",
    "            if not silent: print(\"Test failed with %i arguments:\\n%s\\nSTDOUT output:\\n%s\\nSTDERR output:\\n%s\"%\\\n",
    "                                 (l,argv,\n",
    "                                  bytes.decode(p.stdout),\n",
    "                                  bytes.decode(p.stderr)))\n",
    "            return -1\n",
    "        if bytes.decode(p.stdout) != \"\":\n",
    "            if not silent: print(\"Test failed with %i arguments:\\n%s\\nSTDOUT output:\\n%s\\nSTDERR output:\\n%s\"%\\\n",
    "                                 (l,argv,\n",
    "                                  bytes.decode(p.stdout),\n",
    "                                  bytes.decode(p.stderr)))\n",
    "            return -2\n",
    "        if success: print(\"Test passed correctly, your checker program detected mistakes in argv properly\")\n",
    "        return 1\n",
    "    if bytes.decode(p.stderr) != \"\":\n",
    "        if not silent: print(\"Test failed with %i arguments:\\n%s\\nSTDOUT output:\\n%s\\nSTDERR output:\\n%s\"%\\\n",
    "                             (l,argv,\n",
    "                              bytes.decode(p.stdout),\n",
    "                              bytes.decode(p.stderr)))\n",
    "        return -1\n",
    "    if bytes.decode(p.stdout) == \"KO\\n\":\n",
    "        if not silent: print(\"Array do NOT sorted after execution all your instructions with %i arguments: %s\"%(l,argv))\n",
    "        return 1        \n",
    "    if bytes.decode(p.stdout) == \"OK\\n\":\n",
    "        if success: print(\"Array sorted after execution all your instructions with %i arguments\"%(l))\n",
    "        return 2\n",
    "    if not silent: print(\"There is an exception occured for %i arguments:\\n%s\\nSTDOUT output:\\n%s\\nSTDERR output:\\n%s\"%\\\n",
    "                         (l,argv,\n",
    "                          bytes.decode(p.stdout),\n",
    "                          bytes.decode(p.stderr)))\n",
    "    return -10"
   ]
  },
  {
   "cell_type": "code",
   "execution_count": 10,
   "metadata": {},
   "outputs": [],
   "source": [
    "def make_test_push_swap(array, errors_test = False, silent = True, success = False):\n",
    "    l1 = len(array)\n",
    "    argv = \" \".join(map(str,array))\n",
    "    args = \"/push_swap \" + argv\n",
    "    args = os.path.abspath(\"../\") + args\n",
    "    args = args.split()\n",
    "    p = subprocess.run(args,\n",
    "                       stdout=subprocess.PIPE,\n",
    "                       stderr=subprocess.PIPE)\n",
    "    if errors_test:\n",
    "        if bytes.decode(p.stderr) != \"Error\\n\":\n",
    "            if not silent: print(\"Test failed with %i arguments:\\n%s\\nSTDOUT output:\\n%s\\nSTDERR output:\\n%s\"\\\n",
    "                                 &(l,argv,bytes.decode(p.stdout),bytes.decode(p.stderr)))\n",
    "            return -1\n",
    "        if bytes.decode(p.stdout) != \"\":\n",
    "            if not silent: print(\"Test failed with %i arguments:\\n%s\\nSTDOUT output:\\n%s\\nSTDERR output:\\n%s\"&\\\n",
    "                                 (l,argv,bytes.decode(p.stdout),bytes.decode(p.stderr)))\n",
    "            return -2\n",
    "        if success: print(\"Test passed correctly, your push_swap program detected mistakes in argv properly\")\n",
    "        return 1\n",
    "    if bytes.decode(p.stderr) != \"\":\n",
    "        if not silent: print(\"Test failed with %i arguments:\\n%s\\nSTDOUT output:\\n%s\\nSTDERR output:\\n%s\"&\\\n",
    "                             (l,argv,bytes.decode(p.stdout),bytes.decode(p.stderr)))\n",
    "        return -1\n",
    "    return p.stdout"
   ]
  },
  {
   "cell_type": "markdown",
   "metadata": {},
   "source": [
    "# 2. Making necessary compilations"
   ]
  },
  {
   "cell_type": "code",
   "execution_count": 11,
   "metadata": {},
   "outputs": [
    {
     "name": "stdout",
     "output_type": "stream",
     "text": [
      "rm -rf ft_atoi.o ft_bzero.o ft_isalnum.o ft_isalpha.o ft_isascii.o ft_isdigit.o ft_isprint.o ft_isspace.o ft_itoa.o ft_lstadd.o ft_lstdel.o ft_lstdelone.o ft_lstiter.o ft_lstlen.o ft_lstmap.o ft_lstnew.o ft_memalloc.o ft_memccpy.o ft_memchr.o ft_memcmp.o ft_memcpy.o ft_memdel.o ft_memmove.o ft_memset.o ft_putchar.o ft_putchar_fd.o ft_putendl.o ft_putendl_fd.o ft_putnbr.o ft_putnbr_fd.o ft_putstr.o ft_putstr_fd.o ft_strcat.o ft_strchr.o ft_strclr.o ft_strcmp.o ft_strdel.o ft_strdup.o ft_strequ.o ft_striter.o ft_striteri.o ft_strjoin.o ft_strlcat.o ft_strlen.o ft_strmap.o ft_strmapi.o ft_strncat.o ft_strncmp.o ft_strnequ.o ft_strnew.o ft_strnjoin.o ft_strnstr.o ft_strrchr.o ft_strsplit.o ft_strstr.o ft_strsub.o ft_strtrim.o ft_tolower.o ft_toupper.o ft_strcpy.o ft_strncpy.o ft_abs.o ft_count_words.o ft_recursive_power.o ft_is_lst_srtd.o ft_lstlen.o\n",
      "rm -rf libft.a\n",
      "gcc -Wall -Wextra -Werror -I. -c ft_atoi.c\n",
      "gcc -Wall -Wextra -Werror -I. -c ft_bzero.c\n",
      "gcc -Wall -Wextra -Werror -I. -c ft_isalnum.c\n",
      "gcc -Wall -Wextra -Werror -I. -c ft_isalpha.c\n",
      "gcc -Wall -Wextra -Werror -I. -c ft_isascii.c\n",
      "gcc -Wall -Wextra -Werror -I. -c ft_isdigit.c\n",
      "gcc -Wall -Wextra -Werror -I. -c ft_isprint.c\n",
      "gcc -Wall -Wextra -Werror -I. -c ft_isspace.c\n",
      "gcc -Wall -Wextra -Werror -I. -c ft_itoa.c\n",
      "gcc -Wall -Wextra -Werror -I. -c ft_lstadd.c\n",
      "gcc -Wall -Wextra -Werror -I. -c ft_lstdel.c\n",
      "gcc -Wall -Wextra -Werror -I. -c ft_lstdelone.c\n",
      "gcc -Wall -Wextra -Werror -I. -c ft_lstiter.c\n",
      "gcc -Wall -Wextra -Werror -I. -c ft_lstlen.c\n",
      "gcc -Wall -Wextra -Werror -I. -c ft_lstmap.c\n",
      "gcc -Wall -Wextra -Werror -I. -c ft_lstnew.c\n",
      "gcc -Wall -Wextra -Werror -I. -c ft_memalloc.c\n",
      "gcc -Wall -Wextra -Werror -I. -c ft_memccpy.c\n",
      "gcc -Wall -Wextra -Werror -I. -c ft_memchr.c\n",
      "gcc -Wall -Wextra -Werror -I. -c ft_memcmp.c\n",
      "gcc -Wall -Wextra -Werror -I. -c ft_memcpy.c\n",
      "gcc -Wall -Wextra -Werror -I. -c ft_memdel.c\n",
      "gcc -Wall -Wextra -Werror -I. -c ft_memmove.c\n",
      "gcc -Wall -Wextra -Werror -I. -c ft_memset.c\n",
      "gcc -Wall -Wextra -Werror -I. -c ft_putchar.c\n",
      "gcc -Wall -Wextra -Werror -I. -c ft_putchar_fd.c\n",
      "gcc -Wall -Wextra -Werror -I. -c ft_putendl.c\n",
      "gcc -Wall -Wextra -Werror -I. -c ft_putendl_fd.c\n",
      "gcc -Wall -Wextra -Werror -I. -c ft_putnbr.c\n",
      "gcc -Wall -Wextra -Werror -I. -c ft_putnbr_fd.c\n",
      "gcc -Wall -Wextra -Werror -I. -c ft_putstr.c\n",
      "gcc -Wall -Wextra -Werror -I. -c ft_putstr_fd.c\n",
      "gcc -Wall -Wextra -Werror -I. -c ft_strcat.c\n",
      "gcc -Wall -Wextra -Werror -I. -c ft_strchr.c\n",
      "gcc -Wall -Wextra -Werror -I. -c ft_strclr.c\n",
      "gcc -Wall -Wextra -Werror -I. -c ft_strcmp.c\n",
      "gcc -Wall -Wextra -Werror -I. -c ft_strdel.c\n",
      "gcc -Wall -Wextra -Werror -I. -c ft_strdup.c\n",
      "gcc -Wall -Wextra -Werror -I. -c ft_strequ.c\n",
      "gcc -Wall -Wextra -Werror -I. -c ft_striter.c\n",
      "gcc -Wall -Wextra -Werror -I. -c ft_striteri.c\n",
      "gcc -Wall -Wextra -Werror -I. -c ft_strjoin.c\n",
      "gcc -Wall -Wextra -Werror -I. -c ft_strlcat.c\n",
      "gcc -Wall -Wextra -Werror -I. -c ft_strlen.c\n",
      "gcc -Wall -Wextra -Werror -I. -c ft_strmap.c\n",
      "gcc -Wall -Wextra -Werror -I. -c ft_strmapi.c\n",
      "gcc -Wall -Wextra -Werror -I. -c ft_strncat.c\n",
      "gcc -Wall -Wextra -Werror -I. -c ft_strncmp.c\n",
      "gcc -Wall -Wextra -Werror -I. -c ft_strnequ.c\n",
      "gcc -Wall -Wextra -Werror -I. -c ft_strnew.c\n",
      "gcc -Wall -Wextra -Werror -I. -c ft_strnjoin.c\n",
      "gcc -Wall -Wextra -Werror -I. -c ft_strnstr.c\n",
      "gcc -Wall -Wextra -Werror -I. -c ft_strrchr.c\n",
      "gcc -Wall -Wextra -Werror -I. -c ft_strsplit.c\n",
      "gcc -Wall -Wextra -Werror -I. -c ft_strstr.c\n",
      "gcc -Wall -Wextra -Werror -I. -c ft_strsub.c\n",
      "gcc -Wall -Wextra -Werror -I. -c ft_strtrim.c\n",
      "gcc -Wall -Wextra -Werror -I. -c ft_tolower.c\n",
      "gcc -Wall -Wextra -Werror -I. -c ft_toupper.c\n",
      "gcc -Wall -Wextra -Werror -I. -c ft_strcpy.c\n",
      "gcc -Wall -Wextra -Werror -I. -c ft_strncpy.c\n",
      "gcc -Wall -Wextra -Werror -I. -c ft_abs.c\n",
      "gcc -Wall -Wextra -Werror -I. -c ft_count_words.c\n",
      "gcc -Wall -Wextra -Werror -I. -c ft_recursive_power.c\n",
      "gcc -Wall -Wextra -Werror -I. -c ft_is_lst_srtd.c\n",
      "ar rcs libft.a ft_atoi.o ft_bzero.o ft_isalnum.o ft_isalpha.o ft_isascii.o ft_isdigit.o ft_isprint.o ft_isspace.o ft_itoa.o ft_lstadd.o ft_lstdel.o ft_lstdelone.o ft_lstiter.o ft_lstlen.o ft_lstmap.o ft_lstnew.o ft_memalloc.o ft_memccpy.o ft_memchr.o ft_memcmp.o ft_memcpy.o ft_memdel.o ft_memmove.o ft_memset.o ft_putchar.o ft_putchar_fd.o ft_putendl.o ft_putendl_fd.o ft_putnbr.o ft_putnbr_fd.o ft_putstr.o ft_putstr_fd.o ft_strcat.o ft_strchr.o ft_strclr.o ft_strcmp.o ft_strdel.o ft_strdup.o ft_strequ.o ft_striter.o ft_striteri.o ft_strjoin.o ft_strlcat.o ft_strlen.o ft_strmap.o ft_strmapi.o ft_strncat.o ft_strncmp.o ft_strnequ.o ft_strnew.o ft_strnjoin.o ft_strnstr.o ft_strrchr.o ft_strsplit.o ft_strstr.o ft_strsub.o ft_strtrim.o ft_tolower.o ft_toupper.o ft_strcpy.o ft_strncpy.o ft_abs.o ft_count_words.o ft_recursive_power.o ft_is_lst_srtd.o ft_lstlen.o\n",
      "rm -rf ft_atoi.o ft_bzero.o ft_isalnum.o ft_isalpha.o ft_isascii.o ft_isdigit.o ft_isprint.o ft_isspace.o ft_itoa.o ft_lstadd.o ft_lstdel.o ft_lstdelone.o ft_lstiter.o ft_lstlen.o ft_lstmap.o ft_lstnew.o ft_memalloc.o ft_memccpy.o ft_memchr.o ft_memcmp.o ft_memcpy.o ft_memdel.o ft_memmove.o ft_memset.o ft_putchar.o ft_putchar_fd.o ft_putendl.o ft_putendl_fd.o ft_putnbr.o ft_putnbr_fd.o ft_putstr.o ft_putstr_fd.o ft_strcat.o ft_strchr.o ft_strclr.o ft_strcmp.o ft_strdel.o ft_strdup.o ft_strequ.o ft_striter.o ft_striteri.o ft_strjoin.o ft_strlcat.o ft_strlen.o ft_strmap.o ft_strmapi.o ft_strncat.o ft_strncmp.o ft_strnequ.o ft_strnew.o ft_strnjoin.o ft_strnstr.o ft_strrchr.o ft_strsplit.o ft_strstr.o ft_strsub.o ft_strtrim.o ft_tolower.o ft_toupper.o ft_strcpy.o ft_strncpy.o ft_abs.o ft_count_words.o ft_recursive_power.o ft_is_lst_srtd.o ft_lstlen.o\n"
     ]
    }
   ],
   "source": [
    "!(cd ../libft && make re && make clean)\n",
    "!(cd .. && make re && make clean)"
   ]
  },
  {
   "cell_type": "code",
   "execution_count": 12,
   "metadata": {},
   "outputs": [
    {
     "name": "stdout",
     "output_type": "stream",
     "text": [
      "_________________________________________\n",
      "1. Test of error args: duplicates in argv\n",
      "1.1 Test for CHECKER binary\n",
      "Resume:\n",
      " 306/306  tests passed\n",
      "   0/306  tests failed\n",
      "   0/306  tests finished unexpectedly\n",
      "1.2 Test for PUSH_SWAP binary\n",
      "\n",
      "Do you have any bugs?\n",
      "Type 'yes' or 'no':\n"
     ]
    },
    {
     "name": "stdin",
     "output_type": "stream",
     "text": [
      " no\n"
     ]
    },
    {
     "name": "stdout",
     "output_type": "stream",
     "text": [
      "Resume:\n",
      " 306/306  tests passed\n",
      "   0/306  tests failed\n",
      "   0/306  tests finished unexpectedly\n",
      "__________________________________________\n",
      "2. Test of error args: non-numbers in argv\n",
      "2.1 Test for CHECKER binary\n",
      "Resume:\n",
      "2448/2448 tests passed\n",
      "   0/2448 tests failed\n",
      "   0/2448 tests finished unexpectedly\n",
      "2.2 Test for PUSH_SWAP binary\n",
      "\n",
      "Do you have any bugs?\n",
      "Type 'yes' or 'no':\n"
     ]
    },
    {
     "name": "stdin",
     "output_type": "stream",
     "text": [
      " no\n"
     ]
    },
    {
     "name": "stdout",
     "output_type": "stream",
     "text": [
      "Resume:\n",
      "2448/2448 tests passed\n",
      "   0/2448 tests failed\n",
      "   0/2448 tests finished unexpectedly\n",
      "_____________________________________________\n",
      "3. Test of error args: int overflow detection\n",
      "3.1 Test for CHECKER binary\n",
      "\n",
      "Do you have any bugs?\n",
      "Type 'yes' or 'no':\n"
     ]
    },
    {
     "name": "stdin",
     "output_type": "stream",
     "text": [
      " no\n"
     ]
    },
    {
     "name": "stdout",
     "output_type": "stream",
     "text": [
      "Resume:\n",
      "  14/14   tests passed\n",
      "   0/14   tests failed\n",
      "   0/14   tests finished unexpectedly\n",
      "3.2 Test for PUSH_SWAP binary\n",
      "\n",
      "Do you have any bugs?\n",
      "Type 'yes' or 'no':\n"
     ]
    },
    {
     "name": "stdin",
     "output_type": "stream",
     "text": [
      " no\n"
     ]
    },
    {
     "name": "stdout",
     "output_type": "stream",
     "text": [
      "Resume:\n",
      "  14/14   tests passed\n",
      "   0/14   tests failed\n",
      "   0/14   tests finished unexpectedly\n"
     ]
    }
   ],
   "source": [
    "# 3. Base tests for all permutations of ints in range 5\n",
    "\n",
    "#All tests for this chapter should be passed as correct\n",
    "\n",
    "array_sizes = range(1,6)\n",
    "\n",
    "print(\"_________________________________________\")\n",
    "print(\"1. Test of error args: duplicates in argv\")\n",
    "print(\"1.1 Test for CHECKER binary\")\n",
    "i1 = 0\n",
    "i2 = 0\n",
    "i3 = 0\n",
    "for size in array_sizes:\n",
    "    for arr in permutations(arange(size), size):\n",
    "        arr = list(arr) + [arr[randint(0,len(arr))]]\n",
    "        shuffle(arr)\n",
    "        res = make_test_checker(arr,\"\",errors_test = True, silent = True)\n",
    "        if res == 1:i1+=1\n",
    "        elif res == -1:i2+=1\n",
    "        elif res == -2:i2+=1\n",
    "        elif res == -10:i3+=1\n",
    "    for arr in permutations(arange(1, size + 1), size):\n",
    "        arr = list(arr) + [arr[randint(0,len(arr))]]\n",
    "        shuffle(arr)\n",
    "        res = make_test_checker(arr,\"\",errors_test = True, silent = True)\n",
    "        if res == 1:i1+=1\n",
    "        elif res == -1:i2+=1\n",
    "        elif res == -2:i2+=1\n",
    "        elif res == -10:i3+=1\n",
    "sum_ = i1+i2+i3\n",
    "\n",
    "print(\"Resume:\\n%4i/%-4i tests passed\\n%4i/%-4i tests failed\\n%4i/%-4i tests finished unexpectedly\"%(i1,sum_,i2,sum_,i3,sum_,))\n",
    "\n",
    "print(\"1.2 Test for PUSH_SWAP binary\")\n",
    "i1 = 0\n",
    "i2 = 0\n",
    "i3 = 0\n",
    "for size in array_sizes:\n",
    "    for arr in permutations(arange(size), size):\n",
    "        arr = list(arr) + [arr[randint(0,len(arr))]]\n",
    "        shuffle(arr)\n",
    "        res = make_test_push_swap(arr,errors_test = True, silent = True)\n",
    "        if res == 1:i1+=1\n",
    "        elif res == -1:i2+=1\n",
    "        elif res == -2:i2+=1\n",
    "        elif res == -10:i3+=1\n",
    "    for arr in permutations(arange(1, size + 1), size):\n",
    "        arr = list(arr) + [arr[randint(0,len(arr))]]\n",
    "        shuffle(arr)\n",
    "        res = make_test_push_swap(arr,errors_test = True, silent = True)\n",
    "        if res == 1:i1+=1\n",
    "        elif res == -1:i2+=1\n",
    "        elif res == -2:i2+=1\n",
    "        elif res == -10:i3+=1\n",
    "print(\"\\nDo you have any bugs?\\nType \\'yes\\' or \\'no\\':\")\n",
    "orig_out = sys.stdout\n",
    "while True:\n",
    "    sys.stdout = io.StringIO()\n",
    "    inp = input()\n",
    "    sys.stdout = orig_out\n",
    "    if inp == 'yes' or inp == 'no':\n",
    "        break\n",
    "if inp == \"yes\":sys.exit()\n",
    "sum_ = i1+i2+i3\n",
    "print(\"Resume:\\n%4i/%-4i tests passed\\n%4i/%-4i tests failed\\n%4i/%-4i tests finished unexpectedly\"%(i1,sum_,i2,sum_,i3,sum_,))\n",
    "\n",
    "# 5. Test of non-numbers detection\n",
    "\n",
    "array_mistakes = ['a', 'one', '1-', 'tt', '@',  '1\\\\n', '\\\\n','\\\\n\\\\n\\\\n1']\n",
    "\n",
    "\n",
    "print(\"__________________________________________\")\n",
    "print(\"2. Test of error args: non-numbers in argv\")\n",
    "print(\"2.1 Test for CHECKER binary\")\n",
    "i1 = 0\n",
    "i2 = 0\n",
    "i3 = 0\n",
    "for mistake in array_mistakes:\n",
    "    for size in array_sizes:\n",
    "        for arr in permutations(arange(size), size):\n",
    "            arr = list(arr) + [mistake]\n",
    "            shuffle(arr)\n",
    "            res = make_test_checker(arr,\"\",errors_test = True, silent = True)\n",
    "            if res == 1:i1+=1\n",
    "            elif res == -1:i2+=1\n",
    "            elif res == -2:i2+=1\n",
    "            elif res == -10:i3+=1\n",
    "        for arr in permutations(arange(1, size + 1), size):\n",
    "            arr = list(arr) + [mistake]\n",
    "            shuffle(arr)\n",
    "            res = make_test_checker(arr,\"\",errors_test = True, silent = True)\n",
    "            if res == 1:i1+=1\n",
    "            elif res == -1:i2+=1\n",
    "            elif res == -2:i2+=1\n",
    "            elif res == -10:i3+=1\n",
    "                \n",
    "sum_ = i1+i2+i3\n",
    "print(\"Resume:\\n%4i/%-4i tests passed\\n%4i/%-4i tests failed\\n%4i/%-4i tests finished unexpectedly\"%(i1,sum_,i2,sum_,i3,sum_,))\n",
    "\n",
    "print(\"2.2 Test for PUSH_SWAP binary\")\n",
    "i1 = 0\n",
    "i2 = 0\n",
    "i3 = 0\n",
    "for mistake in array_mistakes:\n",
    "    for size in array_sizes:\n",
    "        for arr in permutations(arange(size), size):\n",
    "            arr = list(arr) + [mistake]\n",
    "            shuffle(arr)\n",
    "            res = make_test_push_swap(arr,errors_test = True, silent = True)\n",
    "            if res == 1:i1+=1\n",
    "            elif res == -1:i2+=1\n",
    "            elif res == -2:i2+=1\n",
    "            elif res == -10:i3+=1\n",
    "        for arr in permutations(arange(1, size + 1), size):\n",
    "            arr = list(arr) + [mistake]\n",
    "            shuffle(arr)\n",
    "            res = make_test_push_swap(arr,errors_test = True, silent = True)\n",
    "            if res == 1:i1+=1\n",
    "            elif res == -1:i2+=1\n",
    "            elif res == -2:i2+=1\n",
    "            elif res == -10:i3+=1\n",
    "print(\"\\nDo you have any bugs?\\nType \\'yes\\' or \\'no\\':\")\n",
    "orig_out = sys.stdout\n",
    "while True:\n",
    "    sys.stdout = io.StringIO()\n",
    "    inp = input()\n",
    "    sys.stdout = orig_out\n",
    "    if inp == 'yes' or inp == 'no':\n",
    "        break\n",
    "if inp == \"yes\":sys.exit()\n",
    "                \n",
    "sum_ = i1+i2+i3\n",
    "print(\"Resume:\\n%4i/%-4i tests passed\\n%4i/%-4i tests failed\\n%4i/%-4i tests finished unexpectedly\"%(i1,sum_,i2,sum_,i3,sum_,))\n",
    "\n",
    "# 6. Test of ints sizes detection\n",
    "\n",
    "array_sizes = [1, 2, 3, 4, 5, 100, 500]\n",
    "\n",
    "print(\"_____________________________________________\")\n",
    "print(\"3. Test of error args: int overflow detection\")\n",
    "print(\"3.1 Test for CHECKER binary\")\n",
    "i1 = 0\n",
    "i2 = 0\n",
    "i3 = 0\n",
    "for size in array_sizes:\n",
    "    arr = [randint(2*INT_MIN, INT_MIN - 1)] + list(randint(INT_MIN, INT_MAX, size))\n",
    "    shuffle(arr)\n",
    "    res = make_test_checker(arr,\"\",errors_test = True, silent = True)\n",
    "    if res == 1:i1+=1\n",
    "    elif res == -1:i2+=1\n",
    "    elif res == -2:i2+=1\n",
    "    elif res == -10:i3+=1\n",
    "        \n",
    "for size in array_sizes:\n",
    "    arr = [randint(INT_MAX + 1, 2*INT_MAX)] + list(randint(INT_MIN, INT_MAX, size))\n",
    "    shuffle(arr)\n",
    "    res = make_test_checker(arr,\"\",errors_test = True, silent = True)\n",
    "    if res == 1:i1+=1\n",
    "    elif res == -1:i2+=1\n",
    "    elif res == -2:i2+=1\n",
    "    elif res == -10:i3+=1\n",
    "print(\"\\nDo you have any bugs?\\nType \\'yes\\' or \\'no\\':\")\n",
    "orig_out = sys.stdout\n",
    "while True:\n",
    "    sys.stdout = io.StringIO()\n",
    "    inp = input()\n",
    "    sys.stdout = orig_out\n",
    "    if inp == 'yes' or inp == 'no':\n",
    "        break\n",
    "if inp == \"yes\":sys.exit()\n",
    "sum_ = i1+i2+i3\n",
    "print(\"Resume:\\n%4i/%-4i tests passed\\n%4i/%-4i tests failed\\n%4i/%-4i tests finished unexpectedly\"%(i1,sum_,i2,sum_,i3,sum_,))\n",
    "\n",
    "print(\"3.2 Test for PUSH_SWAP binary\")\n",
    "i1 = 0\n",
    "i2 = 0\n",
    "i3 = 0\n",
    "for size in array_sizes:\n",
    "    arr = [randint(2*INT_MIN, INT_MIN - 1)] + list(randint(INT_MIN, INT_MAX, size))\n",
    "    shuffle(arr)\n",
    "    res = make_test_push_swap(arr,errors_test = True, silent = True)\n",
    "    if res == 1:i1+=1\n",
    "    elif res == -1:i2+=1\n",
    "    elif res == -2:i2+=1\n",
    "    elif res == -10:i3+=1\n",
    "        \n",
    "for size in array_sizes:\n",
    "    arr = [randint(INT_MAX + 1, 2*INT_MAX)] + list(randint(INT_MIN, INT_MAX, size))\n",
    "    shuffle(arr)\n",
    "    res = make_test_push_swap(arr,errors_test = True, silent = True)\n",
    "    if res == 1:i1+=1\n",
    "    elif res == -1:i2+=1\n",
    "    elif res == -2:i2+=1\n",
    "    elif res == -10:i3+=1\n",
    "print(\"\\nDo you have any bugs?\\nType \\'yes\\' or \\'no\\':\")\n",
    "orig_out = sys.stdout\n",
    "while True:\n",
    "    sys.stdout = io.StringIO()\n",
    "    inp = input()\n",
    "    sys.stdout = orig_out\n",
    "    if inp == 'yes' or inp == 'no':\n",
    "        break\n",
    "if inp == \"yes\":sys.exit()\n",
    "        \n",
    "sum_ = i1+i2+i3\n",
    "print(\"Resume:\\n%4i/%-4i tests passed\\n%4i/%-4i tests failed\\n%4i/%-4i tests finished unexpectedly\"%(i1,sum_,i2,sum_,i3,sum_,))"
   ]
  },
  {
   "cell_type": "markdown",
   "metadata": {},
   "source": [
    "# 7. Test of random numbers"
   ]
  },
  {
   "cell_type": "code",
   "execution_count": 13,
   "metadata": {},
   "outputs": [
    {
     "name": "stdout",
     "output_type": "stream",
     "text": [
      "________________________________________________\n",
      "4. Valid tests for program Checker: array sorted\n",
      "\n",
      "Do you have any bugs?\n",
      "Type 'yes' or 'no':\n"
     ]
    },
    {
     "name": "stdin",
     "output_type": "stream",
     "text": [
      " no\n"
     ]
    },
    {
     "name": "stdout",
     "output_type": "stream",
     "text": [
      "Resume:\n",
      "  70/70   tests passed\n",
      "   0/70   tests failed\n",
      "   0/70   tests finished unexpectedly\n",
      "____________________________________________________\n",
      "5. Valid tests for program Checker: array not sorted\n",
      "\n",
      "Do you have any bugs?\n",
      "Type 'yes' or 'no':\n"
     ]
    },
    {
     "name": "stdin",
     "output_type": "stream",
     "text": [
      " no\n"
     ]
    },
    {
     "name": "stdout",
     "output_type": "stream",
     "text": [
      "Resume:\n",
      "  60/60   tests passed\n",
      "   0/60   tests failed\n",
      "   0/60   tests finished unexpectedly\n"
     ]
    }
   ],
   "source": [
    "print(\"________________________________________________\")\n",
    "print(\"4. Valid tests for program Checker: array sorted\")\n",
    "i1 = 0\n",
    "i2 = 0\n",
    "i3 = 0\n",
    "cnt = 0\n",
    "while cnt < 10:\n",
    "    for size in array_sizes:\n",
    "        arr = list(randint(INT_MIN, INT_MAX + 1, size))\n",
    "        arr.sort()\n",
    "        res = make_test_checker(arr,\"\",errors_test = False, silent = True)\n",
    "        if res == 2:i1+=1\n",
    "        elif res == 1:i2+=1\n",
    "        elif res == -2:i2+=1\n",
    "        elif res == -10:i3+=1\n",
    "    cnt += 1\n",
    "print(\"\\nDo you have any bugs?\\nType \\'yes\\' or \\'no\\':\")\n",
    "orig_out = sys.stdout\n",
    "while True:\n",
    "    sys.stdout = io.StringIO()\n",
    "    inp = input()\n",
    "    sys.stdout = orig_out\n",
    "    if inp == 'yes' or inp == 'no':\n",
    "        break\n",
    "if inp == \"yes\":sys.exit()\n",
    "    \n",
    "sum_ = i1+i2+i3\n",
    "print(\"Resume:\\n%4i/%-4i tests passed\\n%4i/%-4i tests failed\\n%4i/%-4i tests finished unexpectedly\"%(i1,sum_,i2,sum_,i3,sum_,))\n",
    "\n",
    "array_sizes = [2, 3, 4, 5, 100, 500]\n",
    "print(\"____________________________________________________\")\n",
    "print(\"5. Valid tests for program Checker: array not sorted\")\n",
    "i1 = 0\n",
    "i2 = 0\n",
    "i3 = 0\n",
    "cnt = 0\n",
    "while cnt < 10:\n",
    "    for size in array_sizes:\n",
    "        arr = list(randint(INT_MIN, INT_MAX + 1, size))\n",
    "        arr.sort(reverse=True)\n",
    "        res = make_test_checker(arr,\"\",errors_test = False, silent = True, success=True)\n",
    "        if res == 1:i1+=1\n",
    "        elif res == 2:\n",
    "            i2+=1\n",
    "        elif res == -1:\n",
    "            i2+=1\n",
    "        elif res == -10:i3+=1\n",
    "    cnt += 1\n",
    "print(\"\\nDo you have any bugs?\\nType \\'yes\\' or \\'no\\':\")\n",
    "orig_out = sys.stdout\n",
    "while True:\n",
    "    sys.stdout = io.StringIO()\n",
    "    inp = input()\n",
    "    sys.stdout = orig_out\n",
    "    if inp == 'yes' or inp == 'no':\n",
    "        break\n",
    "if inp == \"yes\":sys.exit()\n",
    "sum_ = i1+i2+i3\n",
    "print(\"Resume:\\n%4i/%-4i tests passed\\n%4i/%-4i tests failed\\n%4i/%-4i tests finished unexpectedly\"%(i1,sum_,i2,sum_,i3,sum_,))"
   ]
  },
  {
   "cell_type": "markdown",
   "metadata": {},
   "source": [
    "# 8. Test of instructions (for checker binary)"
   ]
  },
  {
   "cell_type": "code",
   "execution_count": 14,
   "metadata": {},
   "outputs": [],
   "source": [
    "pairs = [\n",
    "        [[21, 0, 564, 666, 8239], 'sa\\n'],\n",
    "        [[21, 0, 564, 666, 8239], 'pb\\npb\\nsb\\npa\\npa\\n'],\n",
    "        [[21, 0, 666, 564, 8239], 'pb\\npb\\nss\\npa\\npa\\n'],\n",
    "        [[8239, 0, 21, 564, 666], 'ra\\n'],\n",
    "        [[21, 564, 0, 666, 8239], 'pb\\npb\\npb\\nrb\\npa\\npa\\npa\\n'],\n",
    "        [[21, 564, 0, 8239, 666], 'pb\\npb\\npb\\nrr\\npa\\npa\\npa\\n'],\n",
    "        [[21, 564, 666, 8239, 0], 'rra\\n'],\n",
    "        [[8239, 0, 21, 564, 666], 'pb\\npb\\npb\\npb\\npb\\nrrb\\npa\\npa\\npa\\npa\\npa\\n'],\n",
    "        [[8239, 0, 21, 564, 666, 89363250, 98363250, 8956325], 'pb\\npb\\npb\\npb\\npb\\nrrr\\npa\\npa\\npa\\npa\\npa\\n'],\n",
    "        ]"
   ]
  },
  {
   "cell_type": "code",
   "execution_count": 15,
   "metadata": {},
   "outputs": [
    {
     "name": "stdout",
     "output_type": "stream",
     "text": [
      "________________________________________________\n",
      "6. Test of instructions exections (for checker binary)\n",
      "All instructions correct\n",
      "\n",
      "Do you have any bugs?\n",
      "Type 'yes' or 'no':\n"
     ]
    },
    {
     "name": "stdin",
     "output_type": "stream",
     "text": [
      " no\n"
     ]
    },
    {
     "name": "stdout",
     "output_type": "stream",
     "text": [
      "Resume:\n",
      "   9/9    tests passed\n",
      "   0/9    tests failed\n",
      "   0/9    tests finished unexpectedly\n"
     ]
    }
   ],
   "source": [
    "print(\"________________________________________________\")\n",
    "print(\"6. Test of instructions exections (for checker binary)\")\n",
    "print(\"All instructions correct\")\n",
    "i1 = 0\n",
    "i2 = 0\n",
    "i3 = 0\n",
    "for array, command in pairs:\n",
    "    command = bytes(command,encoding = 'ascii')\n",
    "    res = make_test_checker(array, command, errors_test = False, silent = True, success=False)\n",
    "    if res == 2:i1+=1\n",
    "    elif res == 1:i2+=1\n",
    "    elif res == -2:i2+=1\n",
    "    elif res == -10:i3+=1\n",
    "print(\"\\nDo you have any bugs?\\nType \\'yes\\' or \\'no\\':\")\n",
    "orig_out = sys.stdout\n",
    "while True:\n",
    "    sys.stdout = io.StringIO()\n",
    "    inp = input()\n",
    "    sys.stdout = orig_out\n",
    "    if inp == 'yes' or inp == 'no':\n",
    "        break\n",
    "if inp == \"yes\":sys.exit()\n",
    "sum_ = i1+i2+i3\n",
    "print(\"Resume:\\n%4i/%-4i tests passed\\n%4i/%-4i tests failed\\n%4i/%-4i tests finished unexpectedly\"%(i1,sum_,i2,sum_,i3,sum_,))"
   ]
  },
  {
   "cell_type": "code",
   "execution_count": 16,
   "metadata": {},
   "outputs": [],
   "source": [
    "pairs = [\n",
    "        [[21, 0, 564, 666, 8239], 'sa\\npb\\n'],\n",
    "        [[21, 0, 564, 666, 8239], 'pb\\npb\\nsb\\npa\\n'],\n",
    "        [[21, 0, 666, 564, 8239], 'pb\\npb\\nss\\npa\\n'],\n",
    "        [[8239, 0, 21, 564, 666], 'ra\\npb\\n'],\n",
    "        [[21, 564, 0, 666, 8239], 'pb\\npb\\npb\\nrb\\npa\\npa\\npa\\npb\\n'],\n",
    "        [[21, 564, 0, 8239, 666], 'pb\\npb\\npb\\nrr\\npa\\npa\\n'],\n",
    "        [[21, 564, 666, 8239, 0], 'rra\\npb\\npb\\npa\\n'],\n",
    "        [[8239, 0, 21, 564, 666], 'pb\\npb\\npb\\npb\\npb\\nrrb\\npa\\npa\\npa\\npa\\npa\\npb\\n'],\n",
    "        [[8239, 0, 21, 564, 666, 89363250, 98363250, 8956325], 'pb\\npb\\npb\\npb\\npb\\nrrr\\npa\\npa\\npa\\npa\\n'],\n",
    "        ]"
   ]
  },
  {
   "cell_type": "code",
   "execution_count": 17,
   "metadata": {},
   "outputs": [
    {
     "name": "stdout",
     "output_type": "stream",
     "text": [
      "________________________________________________\n",
      "7. Test of instructions executions (for checker binary)\n",
      "All instructions NOT correct\n",
      "\n",
      "Do you have any bugs?\n",
      "Type 'yes' or 'no':\n"
     ]
    },
    {
     "name": "stdin",
     "output_type": "stream",
     "text": [
      " no\n"
     ]
    },
    {
     "name": "stdout",
     "output_type": "stream",
     "text": [
      "Resume:\n",
      "   9/9    tests passed\n",
      "   0/9    tests failed\n",
      "   0/9    tests finished unexpectedly\n"
     ]
    }
   ],
   "source": [
    "print(\"________________________________________________\")\n",
    "print(\"7. Test of instructions executions (for checker binary)\")\n",
    "print(\"All instructions NOT correct\")\n",
    "i1 = 0\n",
    "i2 = 0\n",
    "i3 = 0\n",
    "for array, command in pairs:\n",
    "    command = bytes(command,encoding = 'ascii')\n",
    "    res = make_test_checker(array, command, errors_test = False, silent = True, success=False)\n",
    "    if res == 1:i1+=1\n",
    "    elif res == 2:i2+=1\n",
    "    elif res == -2:i2+=1\n",
    "    elif res == -10:i3+=1\n",
    "print(\"\\nDo you have any bugs?\\nType \\'yes\\' or \\'no\\':\")\n",
    "orig_out = sys.stdout\n",
    "while True:\n",
    "    sys.stdout = io.StringIO()\n",
    "    inp = input()\n",
    "    sys.stdout = orig_out\n",
    "    if inp == 'yes' or inp == 'no':\n",
    "        break\n",
    "if inp == \"yes\":sys.exit()\n",
    "sum_ = i1+i2+i3\n",
    "print(\"Resume:\\n%4i/%-4i tests passed\\n%4i/%-4i tests failed\\n%4i/%-4i tests finished unexpectedly\"%(i1,sum_,i2,sum_,i3,sum_,))"
   ]
  },
  {
   "cell_type": "markdown",
   "metadata": {},
   "source": [
    "# 9. Test with no args"
   ]
  },
  {
   "cell_type": "code",
   "execution_count": 18,
   "metadata": {},
   "outputs": [],
   "source": [
    "array_nothing = []"
   ]
  },
  {
   "cell_type": "code",
   "execution_count": 19,
   "metadata": {},
   "outputs": [],
   "source": [
    "instructions = [\n",
    "                'sa\\n',\n",
    "                'sb\\n',\n",
    "                'ss\\n',\n",
    "                'ra\\n',\n",
    "                'rb\\n',\n",
    "                'rr\\n',\n",
    "                'rra\\n',\n",
    "                'rrb\\n',\n",
    "                'rrr\\n',\n",
    "                'pa\\n',\n",
    "                'pb\\n',\n",
    "                ]"
   ]
  },
  {
   "cell_type": "code",
   "execution_count": 20,
   "metadata": {},
   "outputs": [
    {
     "name": "stdout",
     "output_type": "stream",
     "text": [
      "________________________________________________\n",
      "8. Test for no argv (for checker binary)\n",
      "\n",
      "Do you have any bugs?\n",
      "Type 'yes' or 'no':\n"
     ]
    },
    {
     "name": "stdin",
     "output_type": "stream",
     "text": [
      " no\n"
     ]
    },
    {
     "name": "stdout",
     "output_type": "stream",
     "text": [
      "Resume:\n",
      "  11/11   tests passed\n",
      "   0/11   tests failed\n",
      "   0/11   tests finished unexpectedly\n"
     ]
    }
   ],
   "source": [
    "print(\"________________________________________________\")\n",
    "print(\"8. Test for no argv (for checker binary)\")\n",
    "i1 = 0\n",
    "i2 = 0\n",
    "i3 = 0\n",
    "for command in instructions:\n",
    "    command = bytes(command,encoding = 'ascii')\n",
    "    res = make_test_checker(array_nothing, command, errors_test = False, silent = True, success=False)\n",
    "    if res == 1:i2+=1\n",
    "    elif res == 2:i2+=1\n",
    "    elif res == -2:i2+=1\n",
    "    elif res == -10:i1+=1\n",
    "print(\"\\nDo you have any bugs?\\nType \\'yes\\' or \\'no\\':\")\n",
    "orig_out = sys.stdout\n",
    "while True:\n",
    "    sys.stdout = io.StringIO()\n",
    "    inp = input()\n",
    "    sys.stdout = orig_out\n",
    "    if inp == 'yes' or inp == 'no':\n",
    "        break\n",
    "if inp == \"yes\":sys.exit()\n",
    "sum_ = i1+i2+i3\n",
    "print(\"Resume:\\n%4i/%-4i tests passed\\n%4i/%-4i tests failed\\n%4i/%-4i tests finished unexpectedly\"%(i1,sum_,i2,sum_,i3,sum_,))"
   ]
  },
  {
   "cell_type": "markdown",
   "metadata": {},
   "source": [
    "# 10. Test of pipeline from push_swap ands checker for array of 1-5 numbers"
   ]
  },
  {
   "cell_type": "code",
   "execution_count": 21,
   "metadata": {},
   "outputs": [
    {
     "name": "stdout",
     "output_type": "stream",
     "text": [
      "__________________________________________\n",
      "9. Test of pipeline from push_swap ands checker for array of 1-5 numbers\n",
      "\n",
      "Do you have any bugs?\n",
      "Type 'yes' or 'no':\n"
     ]
    },
    {
     "name": "stdin",
     "output_type": "stream",
     "text": [
      " no\n"
     ]
    },
    {
     "name": "stdout",
     "output_type": "stream",
     "text": [
      "Resume:\n",
      " 153/153  tests passed\n",
      "   0/153  tests failed\n",
      "   0/153  tests finished unexpectedly\n",
      "\n",
      "Average amount of instructions for array size    1:0    \n",
      "\n",
      "Average amount of instructions for array size    2:1    \n",
      "\n",
      "Average amount of instructions for array size    3:4    \n",
      "\n",
      "Average amount of instructions for array size    4:6    \n",
      "\n",
      "Average amount of instructions for array size    5:9    \n"
     ]
    }
   ],
   "source": [
    "array_sizes = range(1,6)\n",
    "print(\"__________________________________________\")\n",
    "print(\"9. Test of pipeline from push_swap ands checker for array of 1-5 numbers\")\n",
    "i1 = 0\n",
    "i2 = 0\n",
    "i3 = 0\n",
    "list_amounts = []\n",
    "for size in array_sizes:\n",
    "    cnt = 0\n",
    "    sum_instructions = 0\n",
    "    for arr in permutations(arange(size), size):\n",
    "        instructions = make_test_push_swap(arr,errors_test = False, silent = True)\n",
    "        if instructions == -1:i3+=1\n",
    "        else:\n",
    "            cnt+=1\n",
    "            res = make_test_checker(arr,instructions, silent = False)\n",
    "            if res == 2:i1+=1\n",
    "            else:i2+=1\n",
    "            sum_instructions+=len(bytes.decode(instructions).split('\\n')[:-1])\n",
    "    list_amounts.append(sum_instructions//cnt)\n",
    "print(\"\\nDo you have any bugs?\\nType \\'yes\\' or \\'no\\':\")\n",
    "orig_out = sys.stdout\n",
    "while True:\n",
    "    sys.stdout = io.StringIO()\n",
    "    inp = input()\n",
    "    sys.stdout = orig_out\n",
    "    if inp == 'yes' or inp == 'no':\n",
    "        break\n",
    "if inp == \"yes\":sys.exit()\n",
    "sum_ = i1+i2+i3\n",
    "print(\"Resume:\\n%4i/%-4i tests passed\\n%4i/%-4i tests failed\\n%4i/%-4i tests finished unexpectedly\"%(i1,sum_,i2,sum_,i3,sum_,))\n",
    "for size, amount in zip(array_sizes, list_amounts):\n",
    "    print(\"\\nAverage amount of instructions for array size %4i:%-5i\"%(size,amount))"
   ]
  },
  {
   "cell_type": "markdown",
   "metadata": {},
   "source": [
    "# 11. Test of pipeline from push_swap and checker for array of 10-500 numbers"
   ]
  },
  {
   "cell_type": "code",
   "execution_count": 22,
   "metadata": {},
   "outputs": [
    {
     "name": "stdout",
     "output_type": "stream",
     "text": [
      "____________________________________________________________________________\n",
      "10. Test of pipeline from push_swap ands checker for array of 10-500 numbers\n",
      "\n",
      "\n",
      "Next step is 20 random numbers. Do you have any bugs?\n",
      "Type 'yes' or 'no':\n"
     ]
    },
    {
     "name": "stdin",
     "output_type": "stream",
     "text": [
      " no\n"
     ]
    },
    {
     "name": "stdout",
     "output_type": "stream",
     "text": [
      "\n",
      "Next step is 30 random numbers. Do you have any bugs?\n",
      "Type 'yes' or 'no':\n"
     ]
    },
    {
     "name": "stdin",
     "output_type": "stream",
     "text": [
      " no\n"
     ]
    },
    {
     "name": "stdout",
     "output_type": "stream",
     "text": [
      "\n",
      "Next step is 40 random numbers. Do you have any bugs?\n",
      "Type 'yes' or 'no':\n"
     ]
    },
    {
     "name": "stdin",
     "output_type": "stream",
     "text": [
      " no\n"
     ]
    },
    {
     "name": "stdout",
     "output_type": "stream",
     "text": [
      "\n",
      "Next step is 50 random numbers. Do you have any bugs?\n",
      "Type 'yes' or 'no':\n"
     ]
    },
    {
     "name": "stdin",
     "output_type": "stream",
     "text": [
      " no\n"
     ]
    },
    {
     "name": "stdout",
     "output_type": "stream",
     "text": [
      "\n",
      "Next step is 75 random numbers. Do you have any bugs?\n",
      "Type 'yes' or 'no':\n"
     ]
    },
    {
     "name": "stdin",
     "output_type": "stream",
     "text": [
      " no\n"
     ]
    },
    {
     "name": "stdout",
     "output_type": "stream",
     "text": [
      "\n",
      "Next step is 100 random numbers. Do you have any bugs?\n",
      "Type 'yes' or 'no':\n"
     ]
    },
    {
     "name": "stdin",
     "output_type": "stream",
     "text": [
      " no\n"
     ]
    },
    {
     "name": "stdout",
     "output_type": "stream",
     "text": [
      "\n",
      "Next step is 200 random numbers. Do you have any bugs?\n",
      "Type 'yes' or 'no':\n"
     ]
    },
    {
     "name": "stdin",
     "output_type": "stream",
     "text": [
      " yes\n"
     ]
    },
    {
     "name": "stdout",
     "output_type": "stream",
     "text": [
      "Resume:\n",
      " 350/350  tests passed\n",
      "   0/350  tests failed\n",
      "   0/350  tests finished unexpectedly\n",
      "\n",
      "Average amount of instructions for array size   10:26   \n",
      "\n",
      "Average amount of instructions for array size   20:73   \n",
      "\n",
      "Average amount of instructions for array size   30:126  \n",
      "\n",
      "Average amount of instructions for array size   40:187  \n",
      "\n",
      "Average amount of instructions for array size   50:257  \n",
      "\n",
      "Average amount of instructions for array size   75:449  \n"
     ]
    }
   ],
   "source": [
    "array_sizes = [10,20,30,40,50,75,100,200,300,400,500]\n",
    "# array_sizes = [100,500]\n",
    "print(\"____________________________________________________________________________\")\n",
    "print(\"10. Test of pipeline from push_swap ands checker for array of 10-500 numbers\\n\")\n",
    "i1 = 0\n",
    "i2 = 0\n",
    "i3 = 0\n",
    "list_amounts = []\n",
    "for i, size in enumerate(array_sizes):\n",
    "    cnt = 0\n",
    "    cnt2 = 0\n",
    "    sum_instructions = 0\n",
    "    while cnt2 < 50:\n",
    "        arr = choice(arange(-size, size), size,replace = False)\n",
    "#         arr = choice(ultimate_array, size,replace = False)\n",
    "        shuffle(arr)\n",
    "        instructions = make_test_push_swap(arr,errors_test = False, silent = True)\n",
    "        if instructions == -1:i3+=1\n",
    "        else:\n",
    "            cnt+=1\n",
    "            res = make_test_checker(arr,instructions, silent = False)\n",
    "            if res == 2:i1+=1\n",
    "            else:i2+=1\n",
    "            sum_instructions+=len(bytes.decode(instructions).split('\\n')[:-1])\n",
    "        cnt2+=1\n",
    "    if (i + 1) < len(array_sizes):\n",
    "        inp = \"\"\n",
    "        print(\"\\nNext step is %i random numbers. Do you have any bugs?\\nType \\'yes\\' or \\'no\\':\"%(array_sizes[i + 1]))\n",
    "        orig_out = sys.stdout\n",
    "        while True:\n",
    "            sys.stdout = io.StringIO()\n",
    "            inp = input()\n",
    "            sys.stdout = orig_out\n",
    "            if inp == 'yes' or inp == 'no':\n",
    "                break\n",
    "        if inp == \"yes\": break\n",
    "    list_amounts.append(sum_instructions//(cnt if cnt != 0 else 1))\n",
    "sum_ = i1+i2+i3\n",
    "print(\"Resume:\\n%4i/%-4i tests passed\\n%4i/%-4i tests failed\\n%4i/%-4i tests finished unexpectedly\"%(i1,sum_,i2,sum_,i3,sum_,))\n",
    "for size, amount in zip(array_sizes, list_amounts):\n",
    "    print(\"\\nAverage amount of instructions for array size %4i:%-5i\"%(size,amount))"
   ]
  },
  {
   "cell_type": "code",
   "execution_count": 23,
   "metadata": {},
   "outputs": [],
   "source": [
    "# Average amount of instructions for array size   10:26   \n",
    "\n",
    "# Average amount of instructions for array size   20:72   \n",
    "\n",
    "# Average amount of instructions for array size   30:128  \n",
    "\n",
    "# Average amount of instructions for array size   40:190  \n",
    "\n",
    "# Average amount of instructions for array size   50:259  \n",
    "\n",
    "# Average amount of instructions for array size   75:454  \n",
    "\n",
    "# Average amount of instructions for array size  100:682  \n",
    "\n",
    "# Average amount of instructions for array size  200:1794 \n",
    "\n",
    "# Average amount of instructions for array size  300:3192 \n",
    "\n",
    "# Average amount of instructions for array size  400:4857 \n",
    "\n",
    "# Average amount of instructions for array size  500:6569 "
   ]
  },
  {
   "cell_type": "code",
   "execution_count": 24,
   "metadata": {},
   "outputs": [],
   "source": [
    "# Average amount of instructions for array size   10:27   \n",
    "\n",
    "# Average amount of instructions for array size   20:71   \n",
    "\n",
    "# Average amount of instructions for array size   30:126  \n",
    "\n",
    "# Average amount of instructions for array size   40:186  \n",
    "\n",
    "# Average amount of instructions for array size   50:259  \n",
    "\n",
    "# Average amount of instructions for array size   75:452  \n",
    "\n",
    "# Average amount of instructions for array size  100:681  \n",
    "\n",
    "# Average amount of instructions for array size  200:1806 \n",
    "\n",
    "# Average amount of instructions for array size  300:3223 \n",
    "\n",
    "# Average amount of instructions for array size  400:4790 \n",
    "\n",
    "# Average amount of instructions for array size  500:6525"
   ]
  },
  {
   "cell_type": "code",
   "execution_count": null,
   "metadata": {},
   "outputs": [],
   "source": []
  }
 ],
 "metadata": {
  "kernelspec": {
   "display_name": "Python 3",
   "language": "python",
   "name": "python3"
  },
  "language_info": {
   "codemirror_mode": {
    "name": "ipython",
    "version": 3
   },
   "file_extension": ".py",
   "mimetype": "text/x-python",
   "name": "python",
   "nbconvert_exporter": "python",
   "pygments_lexer": "ipython3",
   "version": "3.7.4"
  }
 },
 "nbformat": 4,
 "nbformat_minor": 4
}
